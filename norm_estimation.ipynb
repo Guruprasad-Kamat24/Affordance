{
  "cells": [
    {
      "cell_type": "code",
      "execution_count": null,
      "metadata": {
        "id": "EPmg_zArWpN2"
      },
      "outputs": [],
      "source": [
        "import PIL \n",
        "from PIL import Image as im\n",
        "import matplotlib.pyplot as plt\n",
        "import cv2\n",
        "import imageio\n",
        "import numpy as np"
      ]
    },
    {
      "cell_type": "code",
      "execution_count": null,
      "metadata": {
        "id": "YbMuLaBFnQou"
      },
      "outputs": [],
      "source": [
        "lst = []\n",
        "for k in range(252,784):\n",
        "  k = str(k)\n",
        "  lst.append(\"gfg_dummy_pic\"+k+\".png\")\n"
      ]
    },
    {
      "cell_type": "code",
      "source": [
        "from google.colab import drive\n",
        "drive.mount('/content/drive')"
      ],
      "metadata": {
        "colab": {
          "base_uri": "https://localhost:8080/"
        },
        "id": "QI5G7GHIuWlT",
        "outputId": "145d0da6-bcc1-4241-e85d-270dec0c9df5"
      },
      "execution_count": null,
      "outputs": [
        {
          "output_type": "stream",
          "name": "stdout",
          "text": [
            "Drive already mounted at /content/drive; to attempt to forcibly remount, call drive.mount(\"/content/drive\", force_remount=True).\n"
          ]
        }
      ]
    },
    {
      "cell_type": "code",
      "execution_count": null,
      "metadata": {
        "colab": {
          "base_uri": "https://localhost:8080/"
        },
        "id": "gSvbW_F0nVwB",
        "outputId": "9d14668d-5cee-47e2-ac9e-90c182284f89"
      },
      "outputs": [
        {
          "output_type": "execute_result",
          "data": {
            "text/plain": [
              "True"
            ]
          },
          "metadata": {},
          "execution_count": 2
        }
      ],
      "source": [
        "d_im = cv2.imread(\"/content/Road_D.png\") \n",
        "d_im = d_im.astype(\"float64\") \n",
        "normals = np.array(d_im, dtype=\"float32\") \n",
        "h,w,d = d_im.shape \n",
        "for i in range(1,w-1): \n",
        "    for j in range(1,h-1): \n",
        "        t = np.array([i,j-1,d_im[j-1,i,0]],dtype=\"float64\") \n",
        "        f = np.array([i-1,j,d_im[j,i-1,0]],dtype=\"float64\") \n",
        "        c = np.array([i,j,d_im[j,i,0]] , dtype = \"float64\") \n",
        "        d = np.cross(f-c,t-c) \n",
        "        n = d / np.sqrt((np.sum(d**2))) \n",
        "        normals[j,i,:] = n   \n",
        "cv2.imwrite(\"/content/Road_N.png\",normals*255)"
      ]
    },
    {
      "cell_type": "code",
      "execution_count": null,
      "metadata": {
        "id": "XIsKFKMUnxGx"
      },
      "outputs": [],
      "source": [
        "import cv2\n",
        "import numpy as np\n",
        "import glob\n",
        " \n",
        "img_array = []\n",
        "for i in range(0,784):\n",
        "    filename = \"/content/drive/MyDrive/gr/finalvideo/gfg_dummy_pic\"+str(i)+\".png\"\n",
        "    img = cv2.imread(filename)\n",
        "    height, width, layers = img.shape\n",
        "    size = (width,height)\n",
        "    img_array.append(img)\n",
        " \n",
        " \n",
        "out = cv2.VideoWriter('/content/drive/MyDrive/gr/outGuru/project.avi',cv2.VideoWriter_fourcc(*'DIVX'), 15, size)\n",
        " \n",
        "for i in range(len(img_array)):\n",
        "    out.write(img_array[i])\n",
        "out.release()"
      ]
    },
    {
      "cell_type": "code",
      "source": [],
      "metadata": {
        "id": "18mhHXVtZmKK"
      },
      "execution_count": null,
      "outputs": []
    }
  ],
  "metadata": {
    "colab": {
      "provenance": []
    },
    "gpuClass": "standard",
    "kernelspec": {
      "display_name": "Python 3",
      "name": "python3"
    },
    "language_info": {
      "name": "python"
    },
    "accelerator": "GPU"
  },
  "nbformat": 4,
  "nbformat_minor": 0
}